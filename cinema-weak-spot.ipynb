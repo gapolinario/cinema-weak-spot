{
 "cells": [
  {
   "cell_type": "code",
   "execution_count": null,
   "metadata": {},
   "outputs": [],
   "source": [
    "import numpy as np\n",
    "import pandas as pd\n",
    "import matplotlib.pyplot as plt"
   ]
  },
  {
   "cell_type": "code",
   "execution_count": null,
   "metadata": {},
   "outputs": [],
   "source": [
    "diary = pd.read_csv(\"diary.csv\").dropna(subset=['Tags','Rating'])"
   ]
  },
  {
   "cell_type": "code",
   "execution_count": null,
   "metadata": {},
   "outputs": [],
   "source": [
    "tags = diary.Tags.to_numpy()"
   ]
  },
  {
   "cell_type": "code",
   "execution_count": null,
   "metadata": {},
   "outputs": [],
   "source": [
    "np.unique(tags)"
   ]
  },
  {
   "cell_type": "code",
   "execution_count": null,
   "metadata": {},
   "outputs": [],
   "source": [
    "# add a list of all tags corresponding to movies in the theathers and movies at home\n",
    "cines = ['cine']\n",
    "homes = ['home']"
   ]
  },
  {
   "cell_type": "code",
   "execution_count": null,
   "metadata": {},
   "outputs": [],
   "source": [
    "ratings_general = diary['Rating'].to_numpy()"
   ]
  },
  {
   "cell_type": "code",
   "execution_count": null,
   "metadata": {},
   "outputs": [],
   "source": [
    "# the histogram of the data\n",
    "n, bins, patches = plt.hist(ratings_general, 5, range=(0.5,5.5),ec='black')\n",
    "\n",
    "plt.xlabel('Rating')\n",
    "plt.ylabel('Number of films')\n",
    "plt.title('Films in general')\n",
    "plt.xlim(0.3,5.8)\n",
    "plt.show()\n",
    "# plt.savefig('movies_hist.png') # uncomment to save figure"
   ]
  },
  {
   "cell_type": "code",
   "execution_count": null,
   "metadata": {},
   "outputs": [],
   "source": [
    "ratings_cine = diary[diary['Tags'].isin(cines) ]['Rating'].to_numpy()"
   ]
  },
  {
   "cell_type": "code",
   "execution_count": null,
   "metadata": {},
   "outputs": [],
   "source": [
    "ratings_home = diary[diary['Tags'].isin(homes) ]['Rating'].to_numpy()"
   ]
  },
  {
   "cell_type": "code",
   "execution_count": null,
   "metadata": {},
   "outputs": [],
   "source": [
    "# the histogram of the data\n",
    "n, bins, patches = plt.hist(ratings_cine, 5, range=(0.5,5.5),ec='black')\n",
    "\n",
    "plt.xlabel('Rating')\n",
    "plt.ylabel('Number of films')\n",
    "plt.title('Films in the theaters')\n",
    "plt.xlim(0.3,5.8)\n",
    "plt.show()\n",
    "#plt.savefig('movies_cine_hist.png') # uncomment to save figure"
   ]
  },
  {
   "cell_type": "code",
   "execution_count": null,
   "metadata": {},
   "outputs": [],
   "source": [
    "# the histogram of the data\n",
    "n, bins, patches = plt.hist(ratings_home, 5, range=(0.5,5.5),ec='black')\n",
    "\n",
    "plt.xlabel('Rating')\n",
    "plt.ylabel('Number of films')\n",
    "plt.title('Filmes at home')\n",
    "plt.xlim(0.3,5.8)\n",
    "plt.show()\n",
    "#plt.savefig('movies_home_hist.png') # uncomment to save figure"
   ]
  },
  {
   "cell_type": "code",
   "execution_count": null,
   "metadata": {},
   "outputs": [],
   "source": [
    "# mean: theaters x home\n",
    "print(np.mean(ratings_cine),\" \",np.mean(ratings_home))"
   ]
  },
  {
   "cell_type": "code",
   "execution_count": null,
   "metadata": {},
   "outputs": [],
   "source": [
    "# variance: theaters x home\n",
    "print(np.var(ratings_cine),\" \",np.var(ratings_home))"
   ]
  },
  {
   "cell_type": "code",
   "execution_count": null,
   "metadata": {},
   "outputs": [],
   "source": [
    "# probability of a rating 4 or more for movies I watched in the theaters\n",
    "len(ratings_cine[ratings_cine >= 4])/len(ratings_cine)"
   ]
  },
  {
   "cell_type": "code",
   "execution_count": null,
   "metadata": {},
   "outputs": [],
   "source": [
    "# probability of a rating 4 or more for movies I watched at home\n",
    "len(ratings_home[ratings_home >= 4])/len(ratings_home)"
   ]
  },
  {
   "cell_type": "code",
   "execution_count": null,
   "metadata": {},
   "outputs": [],
   "source": [
    "# probability of a rating 4 or more for all movies\n",
    "len(ratings_general[ratings_general >= 4])/len(ratings_general)"
   ]
  },
  {
   "cell_type": "markdown",
   "metadata": {},
   "source": [
    "# P-value"
   ]
  },
  {
   "cell_type": "code",
   "execution_count": null,
   "metadata": {},
   "outputs": [],
   "source": [
    "import scipy.special as sp"
   ]
  },
  {
   "cell_type": "code",
   "execution_count": null,
   "metadata": {},
   "outputs": [],
   "source": [
    "print(\"films in the theaters with a rating 4 or more: \",len(ratings_cine[ratings_cine >= 4]))\n",
    "print(\"films in the theaters with a rating 3 or less: \",len(ratings_cine[ratings_cine < 4]))\n",
    "print(\"films in the theaters: \",len(ratings_cine))"
   ]
  },
  {
   "cell_type": "code",
   "execution_count": null,
   "metadata": {},
   "outputs": [],
   "source": [
    "# binomial probability: n1 successes in n draws, where the probability of success is x\n",
    "def binom_prob(n1,n,x):\n",
    "    return sp.binom(n,n1) * np.power(x,n1) * np.power(1-x,n-n1)"
   ]
  },
  {
   "cell_type": "code",
   "execution_count": null,
   "metadata": {},
   "outputs": [],
   "source": [
    "# p value: probability of a result equal to or more extreme than the observed under the null hypothesis\n",
    "np.sum([ binom_prob(n1,65,.6) for n1 in np.arange(44,66) ])"
   ]
  }
 ],
 "metadata": {
  "kernelspec": {
   "display_name": "Python 3",
   "language": "python",
   "name": "python3"
  },
  "language_info": {
   "codemirror_mode": {
    "name": "ipython",
    "version": 3
   },
   "file_extension": ".py",
   "mimetype": "text/x-python",
   "name": "python",
   "nbconvert_exporter": "python",
   "pygments_lexer": "ipython3",
   "version": "3.6.8"
  }
 },
 "nbformat": 4,
 "nbformat_minor": 2
}
